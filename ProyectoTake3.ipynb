{
 "cells": [
  {
   "cell_type": "code",
   "execution_count": 1,
   "id": "a0232f8d-e6e9-4a52-a528-f01eb72b8ced",
   "metadata": {},
   "outputs": [],
   "source": [
    "import pandas as pd"
   ]
  },
  {
   "cell_type": "code",
   "execution_count": 2,
   "id": "b0ca3831-9d63-40e3-9549-adc09c9a88c8",
   "metadata": {},
   "outputs": [],
   "source": [
    "df = pd.read_csv('datos_clean.csv')"
   ]
  },
  {
   "cell_type": "code",
   "execution_count": 3,
   "id": "fbfb0495-ebf5-41f0-9cc7-cc9e312fabac",
   "metadata": {},
   "outputs": [
    {
     "data": {
      "text/plain": [
       "Index(['fecha_alta', 'edad', 'estado_civil', 'ocupacion', 'escolaridad',\n",
       "       'estado_usuaria', 'municipio_usuaria', 'colonia_usuaria', 'cp_usuaria',\n",
       "       'estado_hechos', 'municipio_hechos', 'colonia_hechos', 'cp_hechos',\n",
       "       'tematica_1', 'tematica_2', 'tematica_3', 'sufrio_violencia_genero'],\n",
       "      dtype='object')"
      ]
     },
     "execution_count": 3,
     "metadata": {},
     "output_type": "execute_result"
    }
   ],
   "source": [
    "df.columns"
   ]
  },
  {
   "cell_type": "code",
   "execution_count": 4,
   "id": "bb3c3d6e-e96d-4b80-b965-39b2091e40b5",
   "metadata": {},
   "outputs": [],
   "source": [
    "df.drop('estado_usuaria', axis=1, inplace=True)\n",
    "df.drop('municipio_usuaria', axis=1, inplace=True)\n",
    "df.drop('colonia_usuaria', axis=1, inplace=True)\n",
    "df.drop('estado_hechos', axis=1, inplace=True)\n",
    "df.drop('colonia_hechos', axis=1, inplace=True)"
   ]
  },
  {
   "cell_type": "code",
   "execution_count": 5,
   "id": "e1decc21-df9f-4a76-918a-ffd78a039687",
   "metadata": {},
   "outputs": [],
   "source": [
    "df.drop('municipio_hechos', axis=1, inplace=True)"
   ]
  },
  {
   "cell_type": "code",
   "execution_count": 6,
   "id": "b6cb4c28-3f76-42b3-95e6-992d8eb64143",
   "metadata": {},
   "outputs": [],
   "source": [
    "df['fecha_alta'] = pd.to_datetime(df['fecha_alta'])"
   ]
  },
  {
   "cell_type": "code",
   "execution_count": 7,
   "id": "5ee62194-d910-401a-aea6-ce030b5f5bff",
   "metadata": {},
   "outputs": [],
   "source": [
    "nuevo_df = df.loc[(df['fecha_alta'].dt.year != 2016) & (df['fecha_alta'].dt.year != 2017)]"
   ]
  },
  {
   "cell_type": "code",
   "execution_count": 8,
   "id": "d479d7a8-0714-4420-9a3b-5ee69481c785",
   "metadata": {},
   "outputs": [
    {
     "data": {
      "text/plain": [
       "Index(['fecha_alta', 'edad', 'estado_civil', 'ocupacion', 'escolaridad',\n",
       "       'cp_usuaria', 'cp_hechos', 'tematica_1', 'tematica_2', 'tematica_3',\n",
       "       'sufrio_violencia_genero'],\n",
       "      dtype='object')"
      ]
     },
     "execution_count": 8,
     "metadata": {},
     "output_type": "execute_result"
    }
   ],
   "source": [
    "nuevo_df.columns"
   ]
  },
  {
   "cell_type": "code",
   "execution_count": 9,
   "id": "5f34fbcf-8282-4680-8d00-2c45e3354072",
   "metadata": {},
   "outputs": [
    {
     "data": {
      "text/plain": [
       "Timestamp('2018-01-01 00:00:00')"
      ]
     },
     "execution_count": 9,
     "metadata": {},
     "output_type": "execute_result"
    }
   ],
   "source": [
    "nuevo_df['fecha_alta'].min()"
   ]
  },
  {
   "cell_type": "code",
   "execution_count": 10,
   "id": "bf1de10f-b7bb-411e-a4b2-ba4a1363f3c6",
   "metadata": {},
   "outputs": [],
   "source": [
    "nuevo_df.to_csv('datos_cortos.csv', index=False)"
   ]
  },
  {
   "cell_type": "code",
   "execution_count": 11,
   "id": "4aa36af6-77da-4598-b55e-323307b79df1",
   "metadata": {},
   "outputs": [],
   "source": [
    "nuevo_df = pd.read_csv('datos_cortos.csv')"
   ]
  },
  {
   "cell_type": "code",
   "execution_count": 12,
   "id": "2d708f89-f00b-4aa6-a25c-4c35134c11f8",
   "metadata": {},
   "outputs": [],
   "source": [
    "nuevo_df.drop('fecha_alta', axis=1, inplace=True)"
   ]
  },
  {
   "cell_type": "code",
   "execution_count": 13,
   "id": "399c4062-6879-46b0-ad92-17f7b0a5069e",
   "metadata": {},
   "outputs": [],
   "source": [
    "nuevo_df.drop('tematica_1', axis=1, inplace=True)\n",
    "nuevo_df.drop('tematica_2', axis=1, inplace=True)\n",
    "nuevo_df.drop('tematica_3', axis=1, inplace=True)"
   ]
  },
  {
   "cell_type": "code",
   "execution_count": 14,
   "id": "09bcaafb-694f-4581-8e07-2c1eacb40555",
   "metadata": {},
   "outputs": [
    {
     "data": {
      "text/plain": [
       "edad                        int64\n",
       "estado_civil               object\n",
       "ocupacion                  object\n",
       "escolaridad                object\n",
       "cp_usuaria                  int64\n",
       "cp_hechos                   int64\n",
       "sufrio_violencia_genero    object\n",
       "dtype: object"
      ]
     },
     "execution_count": 14,
     "metadata": {},
     "output_type": "execute_result"
    }
   ],
   "source": [
    "nuevo_df.dtypes"
   ]
  },
  {
   "cell_type": "code",
   "execution_count": 15,
   "id": "2760a1f4-2f96-4da0-8d14-165c75c48fc7",
   "metadata": {},
   "outputs": [],
   "source": [
    "nuevo_df['edad'] = nuevo_df['edad'].astype(str)\n",
    "nuevo_df['cp_usuaria'] = nuevo_df['cp_usuaria'].astype(str)\n",
    "nuevo_df['cp_hechos'] = nuevo_df['cp_hechos'].astype(str)"
   ]
  },
  {
   "cell_type": "code",
   "execution_count": 16,
   "id": "6134ed66-90db-4bf6-b4f4-6d99a9e0317e",
   "metadata": {},
   "outputs": [
    {
     "data": {
      "text/plain": [
       "edad                       object\n",
       "estado_civil               object\n",
       "ocupacion                  object\n",
       "escolaridad                object\n",
       "cp_usuaria                 object\n",
       "cp_hechos                  object\n",
       "sufrio_violencia_genero    object\n",
       "dtype: object"
      ]
     },
     "execution_count": 16,
     "metadata": {},
     "output_type": "execute_result"
    }
   ],
   "source": [
    "nuevo_df.dtypes"
   ]
  },
  {
   "cell_type": "code",
   "execution_count": 17,
   "id": "82d48811-70a9-4a40-811b-90ccc2fbf7d0",
   "metadata": {},
   "outputs": [
    {
     "data": {
      "text/html": [
       "<div>\n",
       "<style scoped>\n",
       "    .dataframe tbody tr th:only-of-type {\n",
       "        vertical-align: middle;\n",
       "    }\n",
       "\n",
       "    .dataframe tbody tr th {\n",
       "        vertical-align: top;\n",
       "    }\n",
       "\n",
       "    .dataframe thead th {\n",
       "        text-align: right;\n",
       "    }\n",
       "</style>\n",
       "<table border=\"1\" class=\"dataframe\">\n",
       "  <thead>\n",
       "    <tr style=\"text-align: right;\">\n",
       "      <th></th>\n",
       "      <th>edad</th>\n",
       "      <th>estado_civil</th>\n",
       "      <th>ocupacion</th>\n",
       "      <th>escolaridad</th>\n",
       "      <th>cp_usuaria</th>\n",
       "      <th>cp_hechos</th>\n",
       "      <th>sufrio_violencia_genero</th>\n",
       "    </tr>\n",
       "  </thead>\n",
       "  <tbody>\n",
       "    <tr>\n",
       "      <th>0</th>\n",
       "      <td>50</td>\n",
       "      <td>SOLTERO (A)</td>\n",
       "      <td>DESEMPLEADO (A)</td>\n",
       "      <td>SECUNDARIA</td>\n",
       "      <td>8500</td>\n",
       "      <td>8500</td>\n",
       "      <td>No</td>\n",
       "    </tr>\n",
       "    <tr>\n",
       "      <th>1</th>\n",
       "      <td>33</td>\n",
       "      <td>CONCUBINATO</td>\n",
       "      <td>HOGAR</td>\n",
       "      <td>BACHILLERATO</td>\n",
       "      <td>9230</td>\n",
       "      <td>0</td>\n",
       "      <td>Sí</td>\n",
       "    </tr>\n",
       "    <tr>\n",
       "      <th>2</th>\n",
       "      <td>53</td>\n",
       "      <td>CASADO (A)</td>\n",
       "      <td>HOGAR</td>\n",
       "      <td>LICENCIATURA</td>\n",
       "      <td>8700</td>\n",
       "      <td>8700</td>\n",
       "      <td>No</td>\n",
       "    </tr>\n",
       "    <tr>\n",
       "      <th>3</th>\n",
       "      <td>35</td>\n",
       "      <td>CASADO (A)</td>\n",
       "      <td>HOGAR</td>\n",
       "      <td>SECUNDARIA</td>\n",
       "      <td>9708</td>\n",
       "      <td>9708</td>\n",
       "      <td>No</td>\n",
       "    </tr>\n",
       "    <tr>\n",
       "      <th>4</th>\n",
       "      <td>32</td>\n",
       "      <td>SOLTERO (A)</td>\n",
       "      <td>EMPLEADO (A)</td>\n",
       "      <td>BACHILLERATO</td>\n",
       "      <td>14657</td>\n",
       "      <td>14657</td>\n",
       "      <td>No</td>\n",
       "    </tr>\n",
       "  </tbody>\n",
       "</table>\n",
       "</div>"
      ],
      "text/plain": [
       "  edad estado_civil        ocupacion   escolaridad cp_usuaria cp_hechos  \\\n",
       "0   50  SOLTERO (A)  DESEMPLEADO (A)    SECUNDARIA       8500      8500   \n",
       "1   33  CONCUBINATO            HOGAR  BACHILLERATO       9230         0   \n",
       "2   53   CASADO (A)            HOGAR  LICENCIATURA       8700      8700   \n",
       "3   35   CASADO (A)            HOGAR    SECUNDARIA       9708      9708   \n",
       "4   32  SOLTERO (A)     EMPLEADO (A)  BACHILLERATO      14657     14657   \n",
       "\n",
       "  sufrio_violencia_genero  \n",
       "0                      No  \n",
       "1                      Sí  \n",
       "2                      No  \n",
       "3                      No  \n",
       "4                      No  "
      ]
     },
     "execution_count": 17,
     "metadata": {},
     "output_type": "execute_result"
    }
   ],
   "source": [
    "nuevo_df.head()"
   ]
  },
  {
   "cell_type": "code",
   "execution_count": 18,
   "id": "35ad7f97-be67-455f-86e0-105e3f94d907",
   "metadata": {},
   "outputs": [],
   "source": [
    "from sklearn.model_selection import train_test_split\n",
    "from sklearn.ensemble import RandomForestClassifier\n",
    "from sklearn.metrics import accuracy_score, precision_score, recall_score, f1_score"
   ]
  },
  {
   "cell_type": "code",
   "execution_count": 19,
   "id": "baeafe4a-88cb-4af8-9336-2cdc9ce391cd",
   "metadata": {},
   "outputs": [],
   "source": [
    "nuevo_df = pd.get_dummies(df, drop_first=True)"
   ]
  },
  {
   "cell_type": "code",
   "execution_count": 20,
   "id": "cc6ca69a-1325-4a21-a6ac-4845297fd8a9",
   "metadata": {},
   "outputs": [
    {
     "data": {
      "text/plain": [
       "Index(['fecha_alta', 'edad', 'cp_usuaria', 'cp_hechos',\n",
       "       'estado_civil_CONCUBINATO', 'estado_civil_SOLTERO (A)',\n",
       "       'estado_civil_UNIÓN LIBRE', 'ocupacion_DESEMPLEADO (A)',\n",
       "       'ocupacion_EMPLEADA DEL HOGAR(REMUNERADO)', 'ocupacion_EMPLEADO (A)',\n",
       "       ...\n",
       "       'tematica_3_VIOLENCIA DOCENTE A ESTUDIANTE',\n",
       "       'tematica_3_VIOLENCIA ENTRE PARES',\n",
       "       'tematica_3_VIOLENCIA ESTUDIANTE A DOCENTE',\n",
       "       'tematica_3_VIOLENCIA FAMILIAR', 'tematica_3_VIVIENDA',\n",
       "       'tematica_3_VPH', 'tematica_3_VÍA PÚBLICA', 'tematica_3_XTASIS',\n",
       "       'tematica_3_ZOOFILIA', 'sufrio_violencia_genero_Sí'],\n",
       "      dtype='object', length=1010)"
      ]
     },
     "execution_count": 20,
     "metadata": {},
     "output_type": "execute_result"
    }
   ],
   "source": [
    "nuevo_df.columns"
   ]
  },
  {
   "cell_type": "code",
   "execution_count": 21,
   "id": "0b995ac2-eca9-4e74-ae62-4747227a5ffb",
   "metadata": {},
   "outputs": [
    {
     "data": {
      "text/html": [
       "<div>\n",
       "<style scoped>\n",
       "    .dataframe tbody tr th:only-of-type {\n",
       "        vertical-align: middle;\n",
       "    }\n",
       "\n",
       "    .dataframe tbody tr th {\n",
       "        vertical-align: top;\n",
       "    }\n",
       "\n",
       "    .dataframe thead th {\n",
       "        text-align: right;\n",
       "    }\n",
       "</style>\n",
       "<table border=\"1\" class=\"dataframe\">\n",
       "  <thead>\n",
       "    <tr style=\"text-align: right;\">\n",
       "      <th></th>\n",
       "      <th>fecha_alta</th>\n",
       "      <th>edad</th>\n",
       "      <th>cp_usuaria</th>\n",
       "      <th>cp_hechos</th>\n",
       "      <th>estado_civil_CONCUBINATO</th>\n",
       "      <th>estado_civil_SOLTERO (A)</th>\n",
       "      <th>estado_civil_UNIÓN LIBRE</th>\n",
       "      <th>ocupacion_DESEMPLEADO (A)</th>\n",
       "      <th>ocupacion_EMPLEADA DEL HOGAR(REMUNERADO)</th>\n",
       "      <th>ocupacion_EMPLEADO (A)</th>\n",
       "      <th>...</th>\n",
       "      <th>tematica_3_VIOLENCIA DOCENTE A ESTUDIANTE</th>\n",
       "      <th>tematica_3_VIOLENCIA ENTRE PARES</th>\n",
       "      <th>tematica_3_VIOLENCIA ESTUDIANTE A DOCENTE</th>\n",
       "      <th>tematica_3_VIOLENCIA FAMILIAR</th>\n",
       "      <th>tematica_3_VIVIENDA</th>\n",
       "      <th>tematica_3_VPH</th>\n",
       "      <th>tematica_3_VÍA PÚBLICA</th>\n",
       "      <th>tematica_3_XTASIS</th>\n",
       "      <th>tematica_3_ZOOFILIA</th>\n",
       "      <th>sufrio_violencia_genero_Sí</th>\n",
       "    </tr>\n",
       "  </thead>\n",
       "  <tbody>\n",
       "    <tr>\n",
       "      <th>0</th>\n",
       "      <td>2016-11-01</td>\n",
       "      <td>54</td>\n",
       "      <td>7469</td>\n",
       "      <td>0</td>\n",
       "      <td>0</td>\n",
       "      <td>1</td>\n",
       "      <td>0</td>\n",
       "      <td>0</td>\n",
       "      <td>0</td>\n",
       "      <td>1</td>\n",
       "      <td>...</td>\n",
       "      <td>0</td>\n",
       "      <td>0</td>\n",
       "      <td>0</td>\n",
       "      <td>0</td>\n",
       "      <td>0</td>\n",
       "      <td>0</td>\n",
       "      <td>0</td>\n",
       "      <td>0</td>\n",
       "      <td>0</td>\n",
       "      <td>0</td>\n",
       "    </tr>\n",
       "    <tr>\n",
       "      <th>1</th>\n",
       "      <td>2016-11-01</td>\n",
       "      <td>42</td>\n",
       "      <td>55130</td>\n",
       "      <td>7330</td>\n",
       "      <td>0</td>\n",
       "      <td>1</td>\n",
       "      <td>0</td>\n",
       "      <td>0</td>\n",
       "      <td>0</td>\n",
       "      <td>1</td>\n",
       "      <td>...</td>\n",
       "      <td>0</td>\n",
       "      <td>0</td>\n",
       "      <td>0</td>\n",
       "      <td>0</td>\n",
       "      <td>0</td>\n",
       "      <td>0</td>\n",
       "      <td>0</td>\n",
       "      <td>0</td>\n",
       "      <td>0</td>\n",
       "      <td>1</td>\n",
       "    </tr>\n",
       "    <tr>\n",
       "      <th>2</th>\n",
       "      <td>2016-11-01</td>\n",
       "      <td>40</td>\n",
       "      <td>2100</td>\n",
       "      <td>2100</td>\n",
       "      <td>0</td>\n",
       "      <td>1</td>\n",
       "      <td>0</td>\n",
       "      <td>1</td>\n",
       "      <td>0</td>\n",
       "      <td>0</td>\n",
       "      <td>...</td>\n",
       "      <td>0</td>\n",
       "      <td>0</td>\n",
       "      <td>0</td>\n",
       "      <td>1</td>\n",
       "      <td>0</td>\n",
       "      <td>0</td>\n",
       "      <td>0</td>\n",
       "      <td>0</td>\n",
       "      <td>0</td>\n",
       "      <td>1</td>\n",
       "    </tr>\n",
       "    <tr>\n",
       "      <th>3</th>\n",
       "      <td>2016-11-01</td>\n",
       "      <td>55</td>\n",
       "      <td>2800</td>\n",
       "      <td>0</td>\n",
       "      <td>0</td>\n",
       "      <td>1</td>\n",
       "      <td>0</td>\n",
       "      <td>0</td>\n",
       "      <td>0</td>\n",
       "      <td>1</td>\n",
       "      <td>...</td>\n",
       "      <td>0</td>\n",
       "      <td>0</td>\n",
       "      <td>0</td>\n",
       "      <td>0</td>\n",
       "      <td>0</td>\n",
       "      <td>0</td>\n",
       "      <td>0</td>\n",
       "      <td>0</td>\n",
       "      <td>0</td>\n",
       "      <td>0</td>\n",
       "    </tr>\n",
       "    <tr>\n",
       "      <th>4</th>\n",
       "      <td>2016-11-01</td>\n",
       "      <td>52</td>\n",
       "      <td>1730</td>\n",
       "      <td>1730</td>\n",
       "      <td>0</td>\n",
       "      <td>0</td>\n",
       "      <td>0</td>\n",
       "      <td>0</td>\n",
       "      <td>0</td>\n",
       "      <td>1</td>\n",
       "      <td>...</td>\n",
       "      <td>0</td>\n",
       "      <td>0</td>\n",
       "      <td>0</td>\n",
       "      <td>1</td>\n",
       "      <td>0</td>\n",
       "      <td>0</td>\n",
       "      <td>0</td>\n",
       "      <td>0</td>\n",
       "      <td>0</td>\n",
       "      <td>1</td>\n",
       "    </tr>\n",
       "  </tbody>\n",
       "</table>\n",
       "<p>5 rows × 1010 columns</p>\n",
       "</div>"
      ],
      "text/plain": [
       "  fecha_alta  edad  cp_usuaria  cp_hechos  estado_civil_CONCUBINATO  \\\n",
       "0 2016-11-01    54        7469          0                         0   \n",
       "1 2016-11-01    42       55130       7330                         0   \n",
       "2 2016-11-01    40        2100       2100                         0   \n",
       "3 2016-11-01    55        2800          0                         0   \n",
       "4 2016-11-01    52        1730       1730                         0   \n",
       "\n",
       "   estado_civil_SOLTERO (A)  estado_civil_UNIÓN LIBRE  \\\n",
       "0                         1                         0   \n",
       "1                         1                         0   \n",
       "2                         1                         0   \n",
       "3                         1                         0   \n",
       "4                         0                         0   \n",
       "\n",
       "   ocupacion_DESEMPLEADO (A)  ocupacion_EMPLEADA DEL HOGAR(REMUNERADO)  \\\n",
       "0                          0                                         0   \n",
       "1                          0                                         0   \n",
       "2                          1                                         0   \n",
       "3                          0                                         0   \n",
       "4                          0                                         0   \n",
       "\n",
       "   ocupacion_EMPLEADO (A)  ...  tematica_3_VIOLENCIA DOCENTE A ESTUDIANTE  \\\n",
       "0                       1  ...                                          0   \n",
       "1                       1  ...                                          0   \n",
       "2                       0  ...                                          0   \n",
       "3                       1  ...                                          0   \n",
       "4                       1  ...                                          0   \n",
       "\n",
       "   tematica_3_VIOLENCIA ENTRE PARES  \\\n",
       "0                                 0   \n",
       "1                                 0   \n",
       "2                                 0   \n",
       "3                                 0   \n",
       "4                                 0   \n",
       "\n",
       "   tematica_3_VIOLENCIA ESTUDIANTE A DOCENTE  tematica_3_VIOLENCIA FAMILIAR  \\\n",
       "0                                          0                              0   \n",
       "1                                          0                              0   \n",
       "2                                          0                              1   \n",
       "3                                          0                              0   \n",
       "4                                          0                              1   \n",
       "\n",
       "   tematica_3_VIVIENDA  tematica_3_VPH  tematica_3_VÍA PÚBLICA  \\\n",
       "0                    0               0                       0   \n",
       "1                    0               0                       0   \n",
       "2                    0               0                       0   \n",
       "3                    0               0                       0   \n",
       "4                    0               0                       0   \n",
       "\n",
       "   tematica_3_XTASIS  tematica_3_ZOOFILIA  sufrio_violencia_genero_Sí  \n",
       "0                  0                    0                           0  \n",
       "1                  0                    0                           1  \n",
       "2                  0                    0                           1  \n",
       "3                  0                    0                           0  \n",
       "4                  0                    0                           1  \n",
       "\n",
       "[5 rows x 1010 columns]"
      ]
     },
     "execution_count": 21,
     "metadata": {},
     "output_type": "execute_result"
    }
   ],
   "source": [
    "nuevo_df.head()"
   ]
  },
  {
   "cell_type": "code",
   "execution_count": 22,
   "id": "c4e6bf13-6643-4b20-934a-1a7a249f4ac1",
   "metadata": {},
   "outputs": [],
   "source": [
    "nuevo_df.drop('fecha_alta', axis=1, inplace=True)"
   ]
  },
  {
   "cell_type": "code",
   "execution_count": 23,
   "id": "13972fad-7cc7-42fe-bcc9-3caeee25f524",
   "metadata": {},
   "outputs": [],
   "source": [
    "X = nuevo_df.drop('sufrio_violencia_genero_Sí', axis=1)\n",
    "y = nuevo_df['sufrio_violencia_genero_Sí']\n",
    "X_train, X_test, y_train, y_test = train_test_split(X, y, test_size=0.2, random_state=42)"
   ]
  },
  {
   "cell_type": "code",
   "execution_count": 24,
   "id": "81dae341-2f5a-4dc8-a011-f021a8c2d8a0",
   "metadata": {},
   "outputs": [
    {
     "data": {
      "text/plain": [
       "RandomForestClassifier(random_state=42)"
      ]
     },
     "execution_count": 24,
     "metadata": {},
     "output_type": "execute_result"
    }
   ],
   "source": [
    "clf = RandomForestClassifier(n_estimators=100, random_state=42)\n",
    "clf.fit(X_train, y_train)"
   ]
  },
  {
   "cell_type": "code",
   "execution_count": 25,
   "id": "bf0f50b4-5ec7-4637-8c7c-e9570302c5da",
   "metadata": {},
   "outputs": [],
   "source": [
    "y_pred = clf.predict(X_test)"
   ]
  },
  {
   "cell_type": "code",
   "execution_count": 26,
   "id": "f02131fd-e99d-4b97-8980-bddfb6473946",
   "metadata": {},
   "outputs": [
    {
     "name": "stdout",
     "output_type": "stream",
     "text": [
      "Precisión: 1.0\n",
      "Sensibilidad: 0.9986389928547125\n",
      "Puntuación F1: 0.9993190330268983\n"
     ]
    }
   ],
   "source": [
    "print('Precisión:', precision_score(y_test, y_pred))\n",
    "print('Sensibilidad:', recall_score(y_test, y_pred))\n",
    "print('Puntuación F1:', f1_score(y_test, y_pred))"
   ]
  },
  {
   "cell_type": "code",
   "execution_count": null,
   "id": "c9d8eb4e-f4ec-4048-ae06-f4ead6526b3b",
   "metadata": {},
   "outputs": [],
   "source": []
  }
 ],
 "metadata": {
  "kernelspec": {
   "display_name": "Python 3 (ipykernel)",
   "language": "python",
   "name": "python3"
  },
  "language_info": {
   "codemirror_mode": {
    "name": "ipython",
    "version": 3
   },
   "file_extension": ".py",
   "mimetype": "text/x-python",
   "name": "python",
   "nbconvert_exporter": "python",
   "pygments_lexer": "ipython3",
   "version": "3.9.12"
  }
 },
 "nbformat": 4,
 "nbformat_minor": 5
}
